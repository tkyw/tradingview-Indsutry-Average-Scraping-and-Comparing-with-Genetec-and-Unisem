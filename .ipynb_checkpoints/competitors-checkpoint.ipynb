{
 "cells": [
  {
   "cell_type": "code",
   "execution_count": 3,
   "id": "c157b970-e6d0-450c-9bc0-b62a9120ec85",
   "metadata": {},
   "outputs": [],
   "source": [
    "import pandas as pd \n",
    "import numpy as np \n",
    "from selenium import webdriver\n",
    "from selenium.webdriver.chrome.options import Options\n",
    "from selenium.webdriver.common.by import By\n",
    "from selenium.webdriver.support.ui import WebDriverWait\n",
    "from selenium.webdriver.support import expected_conditions as EC\n",
    "from time import sleep\n",
    "from bs4 import BeautifulSoup as bs\n",
    "import requests"
   ]
  },
  {
   "cell_type": "code",
   "execution_count": 14,
   "id": "2d0a3987-20db-4013-bf32-32bc8d2d40db",
   "metadata": {},
   "outputs": [],
   "source": [
    "links = {\n",
    "    \"Genetec\": \"https://investingmalaysia.com/category/information-technology-industry/automation-solution/\",\n",
    "    \"Unisem\": \"https://investingmalaysia.com/category/manufacturing-industry/semiconductor/\"\n",
    "}\n",
    "companies_competitors = {\n",
    "    \"Genetec\": [],\n",
    "    \"Unisem\": []\n",
    "}"
   ]
  },
  {
   "cell_type": "code",
   "execution_count": 19,
   "id": "d2f8e720-c8d1-4b64-8eb8-8b41750f15fe",
   "metadata": {},
   "outputs": [],
   "source": [
    "def competitors_scraper(links: dict) -> None:\n",
    "    for company, link in links.items():\n",
    "        options = Options()\n",
    "        options.add_argument(\"--headless\")\n",
    "        driver = webdriver.Chrome(options=options)\n",
    "        driver.get(link)\n",
    "        # res = requests.get(link)\n",
    "        soup = bs(driver.page_source, \"lxml\")\n",
    "        competitors = [competitor.text.split(\" \")[0] for competitor in soup.select(\"h3.fontnormal.mb10.mt0.lineheight25 > a\")]\n",
    "        companies_competitors[company] = competitors\n",
    "        "
   ]
  },
  {
   "cell_type": "code",
   "execution_count": 20,
   "id": "0de4eaca-d408-4848-9649-c0836afd1ba0",
   "metadata": {},
   "outputs": [
    {
     "data": {
      "text/plain": [
       "{'Genetec': ['AEM',\n",
       "  'AEMULUS',\n",
       "  'AIMFLEX',\n",
       "  'AT',\n",
       "  'DFX',\n",
       "  'EAH',\n",
       "  'ECA',\n",
       "  'ESCERAM',\n",
       "  'FAVCO',\n",
       "  'FPGROUP',\n",
       "  'GENETEC',\n",
       "  'GREATEC',\n",
       "  'MI',\n",
       "  'MMSV',\n",
       "  'MTRONIC',\n",
       "  'PENTA',\n",
       "  'QES',\n",
       "  'RGTBHD',\n",
       "  'SOLUTN'],\n",
       " 'Unisem': ['ATECH',\n",
       "  'D&O',\n",
       "  'DNEX',\n",
       "  'ECA',\n",
       "  'EDELTEQ',\n",
       "  'GTRONIC',\n",
       "  'INARI',\n",
       "  'MI',\n",
       "  'MPI',\n",
       "  'MQTECH',\n",
       "  'OPPSTAR',\n",
       "  'QES',\n",
       "  'SAM',\n",
       "  'SFPTECH',\n",
       "  'TTVHB',\n",
       "  'TURIYA',\n",
       "  'UNISEM',\n",
       "  'UTDPLT',\n",
       "  'VIS']}"
      ]
     },
     "execution_count": 20,
     "metadata": {},
     "output_type": "execute_result"
    }
   ],
   "source": [
    "companies_competitors"
   ]
  }
 ],
 "metadata": {
  "kernelspec": {
   "display_name": "Python 3 (ipykernel)",
   "language": "python",
   "name": "python3"
  },
  "language_info": {
   "codemirror_mode": {
    "name": "ipython",
    "version": 3
   },
   "file_extension": ".py",
   "mimetype": "text/x-python",
   "name": "python",
   "nbconvert_exporter": "python",
   "pygments_lexer": "ipython3",
   "version": "3.10.2"
  }
 },
 "nbformat": 4,
 "nbformat_minor": 5
}
