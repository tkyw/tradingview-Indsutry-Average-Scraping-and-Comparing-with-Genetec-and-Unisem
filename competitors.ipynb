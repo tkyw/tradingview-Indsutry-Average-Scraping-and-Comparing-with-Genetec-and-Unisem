{
 "cells": [
  {
   "cell_type": "code",
   "execution_count": null,
   "id": "c157b970-e6d0-450c-9bc0-b62a9120ec85",
   "metadata": {},
   "outputs": [],
   "source": [
    "import pandas as pd \n",
    "import numpy as np \n",
    "from selenium import webdriver\n",
    "from selenium.webdriver.chrome.options import Options\n",
    "from selenium.webdriver.common.by import By\n",
    "from selenium.webdriver.support.ui import WebDriverWait\n",
    "from selenium.webdriver.support import expected_conditions as EC\n",
    "from selenium.webdriver.common.keys import Keys\n",
    "from time import sleep\n",
    "from bs4 import BeautifulSoup as bs\n",
    "import requests\n",
    "import os.path"
   ]
  },
  {
   "attachments": {},
   "cell_type": "markdown",
   "id": "fd973b6c-e0bc-4870-b66d-6bf4796741fe",
   "metadata": {},
   "source": [
    "### Competitors"
   ]
  },
  {
   "cell_type": "code",
   "execution_count": null,
   "id": "2d0a3987-20db-4013-bf32-32bc8d2d40db",
   "metadata": {},
   "outputs": [],
   "source": [
    "links = {\n",
    "    \"Genetec\": \"https://investingmalaysia.com/category/information-technology-industry/automation-solution/\",\n",
    "    \"Unisem\": \"https://investingmalaysia.com/category/manufacturing-industry/semiconductor/\"\n",
    "}\n",
    "companies_competitors = {\n",
    "    \"Genetec\": [],\n",
    "    \"Unisem\": []\n",
    "}"
   ]
  },
  {
   "cell_type": "code",
   "execution_count": null,
   "id": "d2f8e720-c8d1-4b64-8eb8-8b41750f15fe",
   "metadata": {},
   "outputs": [],
   "source": [
    "def competitors_scraper(links: dict) -> None:\n",
    "    companies_competitors = {link: [] for link in links}\n",
    "    for company, link in links.items():\n",
    "        options = Options()\n",
    "        options.add_argument(\"--headless\")\n",
    "        driver = webdriver.Chrome(options=options)\n",
    "        driver.get(link)\n",
    "        # res = requests.get(link)\n",
    "        soup = bs(driver.page_source, \"lxml\")\n",
    "        competitors = [competitor.text.split(\" \")[0] for competitor in soup.select(\"h3.fontnormal.mb10.mt0.lineheight25 > a\")]\n",
    "        companies_competitors[company] = competitors\n",
    "    return companies_competitors "
   ]
  },
  {
   "cell_type": "code",
   "execution_count": null,
   "id": "0de4eaca-d408-4848-9649-c0836afd1ba0",
   "metadata": {},
   "outputs": [],
   "source": [
    "companies_competitors = competitors_scraper(links)\n",
    "companies_competitors"
   ]
  },
  {
   "attachments": {},
   "cell_type": "markdown",
   "id": "6fced2f5-744a-4a3c-8326-02312dc03c46",
   "metadata": {
    "tags": []
   },
   "source": [
    "### Financial Statement"
   ]
  },
  {
   "cell_type": "code",
   "execution_count": null,
   "id": "c001f727-bd7f-450a-8ad5-e11c7d2b3426",
   "metadata": {},
   "outputs": [],
   "source": [
    "link = \"https://www.tradingview.com/symbols/MYX-sybl/statement/\"\n",
    "statements = ['financials-income-statement', 'financials-balance-sheet', \"financials-cash-flow\", \"financials-statistics-and-ratios\"]"
   ]
  },
  {
   "cell_type": "code",
   "execution_count": null,
   "id": "68781ee0-a543-4be5-a22b-0e58808e9431",
   "metadata": {},
   "outputs": [],
   "source": [
    "def get_driver(headless=False):\n",
    "    options = Options()\n",
    "    if headless == True:\n",
    "        options.add_argument(\"--headless\")\n",
    "    return webdriver.Chrome(options=options)"
   ]
  },
  {
   "attachments": {},
   "cell_type": "markdown",
   "id": "c38612e2-d5a3-4be4-ba98-82c244802064",
   "metadata": {},
   "source": [
    "### Elements Needed\n",
    "title: .titleWrap-C9MdAMrq .titleText-C9MdAMrq <br/>\n",
    "years: .values-OWKkVLyj.values-AtxjAQkN  .value-OxVAcLqi <br/>\n",
    "values: .values-C9MdAMrq.values-AtxjAQkN  .value-OxVAcLqi <br/>"
   ]
  },
  {
   "cell_type": "code",
   "execution_count": null,
   "id": "3ccfc4e6-bb39-49e5-b7a8-8d420ebb9b04",
   "metadata": {},
   "outputs": [],
   "source": [
    "def find(obj, selector):\n",
    "    return WebDriverWait(obj, 20).until(\n",
    "    EC.presence_of_element_located((By.CSS_SELECTOR, selector)))\n",
    "def finds(obj, selector):\n",
    "    return WebDriverWait(obj, 20).until(\n",
    "    EC.presence_of_all_elements_located((By.CSS_SELECTOR, selector)))\n",
    "def get_texts(objs):\n",
    "    return [item.text for item in objs]"
   ]
  },
  {
   "cell_type": "code",
   "execution_count": null,
   "id": "44ccb22f-ab51-4b70-bc60-6b38a52114df",
   "metadata": {
    "tags": []
   },
   "outputs": [],
   "source": [
    "## This code will take around 30-40 mins to complete running, depends on the wifi connection\n",
    "\n",
    "dfs = {\n",
    "    \"Genetec\": {\n",
    "        \"df_inc\": None,\n",
    "        \"df_bal\": None,\n",
    "        \"df_cash\": None,\n",
    "        \"df_ratio\": None,\n",
    "    },\n",
    "    \"Unisem\": {\n",
    "        \"df_inc\": None,\n",
    "        \"df_bal\": None,\n",
    "        \"df_cash\": None,\n",
    "        \"df_ratio\": None,\n",
    "    }\n",
    "}\n",
    "stamement_name_converter = {\n",
    "    \"financials-income-statement\": \"df_inc\",\n",
    "    \"financials-balance-sheet\": \"df_bal\",\n",
    "    \"financials-cash-flow\": \"df_cash\",\n",
    "    \"financials-statistics-and-ratios\": \"df_ratio\"\n",
    "}\n",
    "## // Function \n",
    "headless = True\n",
    "\n",
    "# for company, competitors in companies_competitors.items():\n",
    "company = \"Unisem\"\n",
    "competitors = list(companies_competitors.values())[-1]\n",
    "for company, competitors in companies_competitors.items():\n",
    "    for competitor in competitors:\n",
    "        for statement in statements:\n",
    "            driver = get_driver(headless=headless)\n",
    "            driver.get(link.replace(\"sybl\", competitor).replace(\"statement\", statement))\n",
    "            button = WebDriverWait(driver, 20).until(\n",
    "            EC.presence_of_all_elements_located((By.CSS_SELECTOR, \"button[role='tab']\")))[0]\n",
    "            button.click()  # choose annual data\n",
    "            sleep(.1)\n",
    "            table = WebDriverWait(driver, 20).until(\n",
    "            EC.presence_of_element_located((By.CSS_SELECTOR, \"div.container-Tv7LSjUz\"))) # wait table of statement to load\n",
    "\n",
    "            def find_toggles(container): # find the toggles to be expanded\n",
    "                return driver.execute_script(\"return document.querySelectorAll(arguments[0]);\", \".arrow-C9MdAMrq\")\n",
    "            toggles = find_toggles(table)\n",
    "            i = 0\n",
    "            while True:   # click all toggles to scrape all hidden data\n",
    "                if i == len(toggles):\n",
    "                    break\n",
    "                toggles = driver.execute_script(\"return document.querySelectorAll(arguments[0]);\", \".arrow-C9MdAMrq\")\n",
    "                driver.execute_script(\"arguments[0].click()\", toggles[i])\n",
    "                i += 1\n",
    "\n",
    "            try:\n",
    "                tables = driver.execute_script(\"return document.querySelector(arguments[0]);\", \"div.container-Tv7LSjUz\")\n",
    "                titles = get_texts(finds(table, \".titleWrap-C9MdAMrq .titleText-C9MdAMrq\")) # crawl title of each row\n",
    "\n",
    "                years = get_texts(finds(table, \".values-OWKkVLyj.values-AtxjAQkN  .value-OxVAcLqi\")) # crawl years available\n",
    "\n",
    "                data_containers = finds(table, \".values-C9MdAMrq.values-AtxjAQkN\") # scrape each row's data container\n",
    "                frames= []\n",
    "                for data_container in data_containers:\n",
    "                    datas = [data.replace(\"\\u202a\", \"\").replace(\"\\u202c\", \"\") for data in get_texts(finds(data_container, \".value-OxVAcLqi\"))]\n",
    "                    frames.append(datas)\n",
    "                years = years[-1 * len(frames[0]): ]\n",
    "\n",
    "                if dfs[company][stamement_name_converter[statement]] is None:\n",
    "                    dfs[company][stamement_name_converter[statement]] = pd.DataFrame(frames, columns=years, index= [(competitor, title) for title in titles])\n",
    "                    df = dfs[company][stamement_name_converter[statement]]\n",
    "                    df.index = pd.MultiIndex.from_tuples(df.index, names=['Company','Indicator'])\n",
    "                else:\n",
    "                    df = dfs[company][stamement_name_converter[statement]]\n",
    "                    df2 = pd.DataFrame(frames, columns=years, index= [(competitor, title) for title in titles])\n",
    "                    df.index = pd.MultiIndex.from_tuples(df.index, names=['Company','Indicator'])\n",
    "                    df = pd.concat([df, df2])\n",
    "                    dfs[company][stamement_name_converter[statement]] = df\n",
    "            except:\n",
    "                print(f\"{company} -> {competitor} -> {statement}\")\n",
    "                break"
   ]
  },
  {
   "cell_type": "code",
   "execution_count": null,
   "id": "84e49fb4-ff49-4fdb-b156-59cb3a0d47e3",
   "metadata": {},
   "outputs": [],
   "source": [
    "dfs[\"Genetec\"]['df_bal'].index.get_level_values(1)"
   ]
  },
  {
   "cell_type": "code",
   "execution_count": null,
   "id": "0e0f974c-8a8c-4999-a466-16ee9ec27aa8",
   "metadata": {},
   "outputs": [],
   "source": [
    "genetec = dfs['Genetec'].copy()\n",
    "unisem = dfs['Unisem'].copy()\n",
    "companies = [genetec, unisem]"
   ]
  },
  {
   "cell_type": "code",
   "execution_count": null,
   "id": "ab317579-b968-4633-937a-eed473f3e03c",
   "metadata": {},
   "outputs": [],
   "source": [
    "dfs"
   ]
  },
  {
   "cell_type": "code",
   "execution_count": null,
   "id": "9aed71e0-9ab4-4a05-a101-1565cb3927fc",
   "metadata": {},
   "outputs": [],
   "source": [
    "companies"
   ]
  },
  {
   "cell_type": "code",
   "execution_count": null,
   "id": "b8e819d1-7456-462e-85ac-505ef654ec08",
   "metadata": {},
   "outputs": [],
   "source": [
    "# reindex the years\n",
    "for company in companies:\n",
    "    for statement, data in company.items():\n",
    "        if not statement == \"df_ratio\":\n",
    "            company[statement] = company[statement].reindex(['2017', '2018', '2019', '2020', '2021', '2022', 'TTM'], axis=1)\n",
    "        else:\n",
    "            company[statement] = company[statement].reindex(['2017', '2018', '2019', '2020', '2021', '2022', 'Current'], axis=1)\n"
   ]
  },
  {
   "attachments": {},
   "cell_type": "markdown",
   "id": "3b49c840-10cb-4d2a-b142-f3cc97c00d9a",
   "metadata": {},
   "source": [
    "### Convert unit to number"
   ]
  },
  {
   "cell_type": "code",
   "execution_count": null,
   "id": "2870eade-ae8a-468f-8eed-58ac7467e39c",
   "metadata": {},
   "outputs": [],
   "source": [
    "unit_converter = {\n",
    "    \"K\": 10 ** 3,\n",
    "    \"M\": 10 ** 6,\n",
    "    \"B\": 10 ** 9\n",
    "}\n",
    "\n",
    "def convert_to_number(data: str):\n",
    "    try:\n",
    "        number = data[:-1].replace(\"−\", \"-\")\n",
    "        if (unit := data[-1]) in unit_converter:\n",
    "            return float(number) * unit_converter[unit]\n",
    "        else:\n",
    "            return float(data.replace(\"−\", \"-\"))\n",
    "    except:\n",
    "        return np.nan"
   ]
  },
  {
   "cell_type": "code",
   "execution_count": null,
   "id": "3b12fe25-a0f7-4546-a128-bebad65df3dc",
   "metadata": {},
   "outputs": [],
   "source": [
    "genetec['df_inc']"
   ]
  },
  {
   "cell_type": "code",
   "execution_count": null,
   "id": "22e41ca6-1801-42d4-acb0-77fb7daf1da4",
   "metadata": {},
   "outputs": [],
   "source": [
    "for statement, df in genetec.items(): \n",
    "    for col in df.columns:\n",
    "        df[col] = df[col].apply(lambda x: convert_to_number(x))"
   ]
  },
  {
   "cell_type": "code",
   "execution_count": null,
   "id": "93e31826-13f4-4a12-8d17-2813a285c945",
   "metadata": {},
   "outputs": [],
   "source": [
    "for statement, df in unisem.items():\n",
    "    for col in df.columns:\n",
    "        df[col] = df[col].apply(lambda x: convert_to_number(x))"
   ]
  },
  {
   "cell_type": "code",
   "execution_count": null,
   "id": "3d685fe9-33cf-49f3-96a8-12046c98fb0f",
   "metadata": {},
   "outputs": [],
   "source": [
    "unisem['df_inc']"
   ]
  },
  {
   "attachments": {},
   "cell_type": "markdown",
   "id": "db4157c7-ff56-41c3-8f59-aa80bca2ee7c",
   "metadata": {},
   "source": [
    "### Industry Average Comparison"
   ]
  },
  {
   "attachments": {},
   "cell_type": "markdown",
   "id": "7914cec3-1547-4f4f-b1b4-0f25fea4a3ec",
   "metadata": {},
   "source": [
    "<h3><u>Ratio Needed</u></h3>\n",
    "Price to earnings ratio<br/>\n",
    "Price to cash flow ratio<br/>\n",
    "Price to book ratio<br/>\n",
    "Return on assets %<br/>\n",
    "Return on equity %<br/>\n",
    "Return on invested capital %<br/>\n",
    "Gross margin %<br/>\n",
    "Operating margin %<br/>\n",
    "Net margin %<br/>\n",
    "Quick ratio<br/>\n",
    "Current ratio<br/>\n",
    "Inventory turnover<br/>\n",
    "Asset turnover<br/>\n",
    "Debt to assets ratio<br/>\n",
    "Debt to equity ratio<br/>\n",
    "Long term debt to total assets ratio<br/>\n",
    "Long term debt to total equity ratio<br/>"
   ]
  },
  {
   "attachments": {},
   "cell_type": "markdown",
   "id": "98acc40b-ef4b-48cc-ab2d-fefa5d14a623",
   "metadata": {
    "tags": []
   },
   "source": [
    "#### Ratio Available on TradingView"
   ]
  },
  {
   "cell_type": "code",
   "execution_count": null,
   "id": "0f864e02-3222-476e-b326-56ac8465a6fb",
   "metadata": {},
   "outputs": [],
   "source": [
    "idx = pd.IndexSlice\n",
    "# for value in set(unisem['df_ratio'].index.get_level_values(1)):  # check ratios available\n",
    "#     print(value)\n",
    "ratios = {}\n",
    "for company, name in zip(companies, links):  # find the industry median of each ratio over 5 years\n",
    "    ratio = company['df_ratio'].loc[idx[:, [\n",
    "        \"Price to earnings ratio\",\n",
    "        \"Price to cash flow ratio\",\n",
    "        \"Price to book ratio\",\n",
    "        \"Return on assets %\",\n",
    "        \"Return on equity %\",\n",
    "        \"Return on invested capital %\",\n",
    "        \"Gross margin %\",\n",
    "        \"Operating margin %\",\n",
    "        \"Net margin %\",\n",
    "        \"Quick ratio\",\n",
    "        \"Current ratio\",\n",
    "        \"Inventory turnover\",\n",
    "        \"Asset turnover\",\n",
    "        \"Debt to assets ratio\",\n",
    "        \"Debt to equity ratio\",\n",
    "        \"Long term debt to total assets ratio\",\n",
    "        \"Long term debt to total equity ratio\",\n",
    "    ]], :].unstack().median().to_frame().loc[idx[\"2018\":, :], :]\n",
    "    ratio.columns = [\"Ratio\"]\n",
    "    ratios[name] = ratio\n",
    "ratios"
   ]
  },
  {
   "cell_type": "code",
   "execution_count": null,
   "id": "51993bbb-1026-406f-b5f2-080df9afe2fd",
   "metadata": {},
   "outputs": [],
   "source": [
    "for company, ratio in ratios.items(): # export to excel file\n",
    "    filename = r\"indsutry_average.xlsx\"\n",
    "    if not os.path.exists(filename):\n",
    "        with pd.ExcelWriter(filename, mode='w', engine='openpyxl', if_sheet_exists=\"replace\") as wf:\n",
    "            ratio.to_excel(wf, sheet_name=company)\n",
    "    else:\n",
    "        with pd.ExcelWriter(filename, mode='a', engine='openpyxl', if_sheet_exists=\"replace\") as wf:\n",
    "            ratio.to_excel(wf, sheet_name=company)"
   ]
  },
  {
   "attachments": {},
   "cell_type": "markdown",
   "id": "8e424dbe-039d-4f2e-8541-31e2d18d094b",
   "metadata": {},
   "source": [
    "#### PEG Ratio"
   ]
  },
  {
   "cell_type": "code",
   "execution_count": null,
   "id": "64e2d3c1-29a3-4d00-9a19-d9dcd29bb142",
   "metadata": {},
   "outputs": [],
   "source": [
    "set(unisem['df_inc'].index.get_level_values(1)) # check what indicators on infcome statement is available"
   ]
  },
  {
   "cell_type": "code",
   "execution_count": null,
   "id": "aad40429-e97f-425a-af33-71b09dc378f0",
   "metadata": {},
   "outputs": [],
   "source": [
    "unisem['df_inc'].loc[idx[:, \"Diluted earnings per share (Diluted EPS)\"], :]"
   ]
  },
  {
   "cell_type": "code",
   "execution_count": null,
   "id": "b3cd2ef6-fd9d-4e03-ac54-94ac9eb80416",
   "metadata": {},
   "outputs": [],
   "source": [
    "eps_growths = []\n",
    "for company in companies:\n",
    "    eps_growth = company['df_inc'].loc[idx[:, \"Diluted earnings per share (Diluted EPS)\"], :].pct_change(axis=1) * 100\n",
    "    eps_growths.append(eps_growth)"
   ]
  },
  {
   "cell_type": "code",
   "execution_count": null,
   "id": "ebf362a8-259f-4877-979f-d675c49a1e4c",
   "metadata": {},
   "outputs": [],
   "source": [
    "unisem['df_ratio'].loc[idx[:, \"Price to earnings ratio\"], :]"
   ]
  },
  {
   "attachments": {},
   "cell_type": "markdown",
   "id": "de05f1ae-b15a-4d13-aaf0-9e44ee0d91e5",
   "metadata": {
    "tags": []
   },
   "source": [
    "##### Unisem PEG Ratio Industry Average"
   ]
  },
  {
   "cell_type": "code",
   "execution_count": null,
   "id": "9c76bba8-dade-40e4-89c6-b6030ce95435",
   "metadata": {},
   "outputs": [],
   "source": [
    "unisem['df_ratio'].loc[idx[:, \"Price to earnings ratio\"], :].unstack().rename(columns={\"Current\": \"TTM\"}).div(eps_growths[-1], axis=0, level=0)"
   ]
  },
  {
   "attachments": {},
   "cell_type": "markdown",
   "id": "df739507-8c7d-4387-b25f-bfe622b6c8b8",
   "metadata": {
    "jp-MarkdownHeadingCollapsed": true,
    "tags": []
   },
   "source": [
    "##### Genetec PEG Ratio Industry Average"
   ]
  },
  {
   "cell_type": "code",
   "execution_count": null,
   "id": "2fcb105d-309e-4694-b4df-947db77600ab",
   "metadata": {},
   "outputs": [],
   "source": [
    "def median(x):\n",
    "    return np.nanmedian(x.loc[(np.isfinite(x))])"
   ]
  },
  {
   "cell_type": "code",
   "execution_count": null,
   "id": "a5596ffe-2a31-47ce-9a7a-2374904b6f22",
   "metadata": {},
   "outputs": [],
   "source": [
    "genetec_peg_ia = genetec['df_ratio'].loc[idx[:, \"Price to earnings ratio\"], :].unstack().rename(columns={\"Current\": \"TTM\"}).div(eps_growths[0], axis=0, level=0).apply(lambda x: median(x)).unstack().rename(columns={\"Price to earnings ratio\": \"Industry Average's PEG Ratio\"})\n",
    "genetec_peg_ia.to_clipboard(excel=True)\n",
    "genetec_peg_ia"
   ]
  },
  {
   "attachments": {},
   "cell_type": "markdown",
   "id": "0502b323-dd0f-4e3e-aebe-53a5df324f1c",
   "metadata": {},
   "source": [
    "##### Unisem PEG Ratio Industry Average"
   ]
  },
  {
   "cell_type": "code",
   "execution_count": null,
   "id": "e96d3be9-4ffb-4bff-bffb-4b480b2ee810",
   "metadata": {},
   "outputs": [],
   "source": [
    "unisem_peg_ia = unisem['df_ratio'].loc[idx[:, \"Price to earnings ratio\"], :].unstack().rename(columns={\"Current\": \"TTM\"}).div(eps_growths[-1], axis=0, level=0).apply(lambda x: median(x), axis=0).unstack().rename(columns={\"Price to earnings ratio\": \"Industry Average's PEG Ratio\"})\n",
    "unisem_peg_ia.to_clipboard(excel=True)\n",
    "unisem_peg_ia"
   ]
  },
  {
   "attachments": {},
   "cell_type": "markdown",
   "id": "b94bf9ea-96a9-42f4-888d-15c65c2e28eb",
   "metadata": {},
   "source": [
    "#### Collection Period"
   ]
  },
  {
   "attachments": {},
   "cell_type": "markdown",
   "id": "a0062686",
   "metadata": {},
   "source": [
    "indicators needed\n",
    "1. Total receivables, net\n",
    "2. Total revenue"
   ]
  },
  {
   "cell_type": "code",
   "execution_count": null,
   "id": "0eaccd92",
   "metadata": {},
   "outputs": [],
   "source": [
    "# unisem['df_inc'].loc[idx[:, \"Total revenue\"], :].unstack().mul((unisem['df_bal'].loc[idx[:, \"Total receivables, net\"], :] / 365).unstack().values, axis=0)\n",
    "genetec_acc = genetec['df_bal'].loc[idx[:, \"Total receivables, net\"], :].unstack()\n",
    "genetec_sales = genetec['df_inc'].loc[idx[:, \"Total revenue\"], :].values\n",
    "genetec_collection_period = ((genetec_acc / genetec_sales) * 365).median().unstack().rename(columns={\"Total receivables, net\": \"Average Collection Period\"})\n",
    "genetec_collection_period.to_clipboard(excel=True)\n",
    "genetec_collection_period"
   ]
  },
  {
   "cell_type": "code",
   "execution_count": null,
   "id": "c887548e-f747-4443-b583-e0d503daf017",
   "metadata": {},
   "outputs": [],
   "source": [
    "# unisem['df_inc'].loc[idx[:, \"Total revenue\"], :].unstack().mul((unisem['df_bal'].loc[idx[:, \"Total receivables, net\"], :] / 365).unstack().values, axis=0)\n",
    "unisem_acc = unisem['df_bal'].loc[idx[:, \"Total receivables, net\"], :].unstack()\n",
    "unisem_sales = unisem['df_inc'].loc[idx[:, \"Total revenue\"], :].values\n",
    "unisem_collection_period = ((unisem_acc / unisem_sales) * 365).median().unstack().rename(columns={\"Total receivables, net\": \"Average Collection Period\"})\n",
    "unisem_collection_period.to_clipboard(excel=True)\n",
    "unisem_collection_period"
   ]
  },
  {
   "attachments": {},
   "cell_type": "markdown",
   "id": "4d6b0a6a",
   "metadata": {},
   "source": [
    "#### Days to Sells Inventory"
   ]
  },
  {
   "attachments": {},
   "cell_type": "markdown",
   "id": "79a3b5e3",
   "metadata": {},
   "source": [
    "Cost of goods sold\n",
    "Total inventory"
   ]
  },
  {
   "cell_type": "code",
   "execution_count": null,
   "id": "8a966d41",
   "metadata": {},
   "outputs": [],
   "source": [
    "idx = pd.IndexSlice\n",
    "genetec_inv_copy = genetec['df_bal'].loc[idx[:, \"Total inventory\"], :].copy().drop(\"TTM\", axis=1)\n",
    "genetec_avg_inv = []\n",
    "columns = genetec_inv_copy.columns\n",
    "for i in range(len(columns) - 1):\n",
    "    average_inv = list((genetec_inv_copy.loc[:, idx[columns[i] : columns[i+1]]].sum(axis=1) / 2 ).values)\n",
    "    genetec_avg_inv.append(average_inv)\n",
    "genetec_dio =  (1 / ((genetec['df_inc'].loc[idx[:, \"Cost of goods sold\"], :].drop([\"2017\", \"TTM\"], axis=1)).unstack(0).stack(0) / average_inv) * 365).unstack(0).unstack().unstack(2).median() * -1\n",
    "genetec_dio.to_clipboard(excel=True)"
   ]
  },
  {
   "cell_type": "code",
   "execution_count": null,
   "id": "f258019c",
   "metadata": {},
   "outputs": [],
   "source": [
    "unisem_inv_copy = unisem['df_bal'].loc[idx[:, \"Total inventory\"], :].copy().drop(\"TTM\", axis=1)\n",
    "unisem_avg_inv = []\n",
    "columns = unisem_inv_copy.columns\n",
    "for i in range(len(columns) - 1):\n",
    "    average_inv = list((unisem_inv_copy.loc[:, idx[columns[i] : columns[i+1]]].sum(axis=1) / 2 ).values)\n",
    "    unisem_avg_inv.append(average_inv)\n",
    "unisem_dio = ((1 / ((unisem['df_inc'].loc[idx[:, \"Cost of goods sold\"], :].drop([\"2017\", \"TTM\"], axis=1)).unstack(0).stack(0) / average_inv) * 365).unstack(0).unstack().unstack(2).median() * -1)\n",
    "unisem_dio.to_clipboard(excel=True)"
   ]
  },
  {
   "attachments": {},
   "cell_type": "markdown",
   "id": "45560ebe",
   "metadata": {},
   "source": [
    "#### Cash Turnover"
   ]
  },
  {
   "cell_type": "code",
   "execution_count": null,
   "id": "a0f7c05b",
   "metadata": {},
   "outputs": [],
   "source": [
    "genetec_revenue_copy = genetec['df_inc'].loc[idx[:, \"Total revenue\"], :].copy()\n",
    "genetec_cash_copy = genetec[\"df_bal\"].loc[idx[:, \"Cash and short term investments\"], :].drop(\"TTM\", axis=1).copy()\n",
    "genetec_avg_cash = []\n",
    "columns = genetec_cash_copy.columns\n",
    "for i in range(len(columns) - 1):\n",
    "    average_cash = list((genetec_cash_copy.loc[:, idx[columns[i] : columns[i+1]]].sum(axis=1) / 2 ).values)\n",
    "    genetec_avg_cash.append(average_cash)\n",
    "(((genetec_revenue_copy.drop([\"2017\", \"TTM\"], axis=1)).unstack(0).stack(0) / np.array(genetec_avg_cash)).median(axis=1)).to_clipboard(excel=True)\n"
   ]
  },
  {
   "cell_type": "code",
   "execution_count": null,
   "id": "9c4c2cd3",
   "metadata": {},
   "outputs": [],
   "source": [
    "unisem_revenue_copy = unisem['df_inc'].loc[idx[:, \"Total revenue\"], :].copy()\n",
    "unisem_cash_copy = unisem[\"df_bal\"].loc[idx[:, \"Cash and short term investments\"], :].drop(\"TTM\", axis=1).copy()\n",
    "unisem_avg_cash = []\n",
    "columns = unisem_cash_copy.columns\n",
    "for i in range(len(columns) - 1):\n",
    "    average_cash = list((unisem_cash_copy.loc[:, idx[columns[i] : columns[i+1]]].sum(axis=1) / 2 ).values)\n",
    "    unisem_avg_cash.append(average_cash)\n",
    "# (unisem_revenue_copy.drop([\"2017\", \"TTM\"], axis=1)).unstack(0).stack(0) / unisem_avg_cash\n",
    "(((unisem_revenue_copy.drop([\"2017\", \"TTM\"], axis=1)).unstack(0).stack(0) / np.array(unisem_avg_cash)).median(axis=1)).to_clipboard(excel=True)\n"
   ]
  },
  {
   "attachments": {},
   "cell_type": "markdown",
   "id": "8d996338",
   "metadata": {},
   "source": [
    "#### PPE Turnover"
   ]
  },
  {
   "attachments": {},
   "cell_type": "markdown",
   "id": "c56473a4",
   "metadata": {},
   "source": []
  },
  {
   "cell_type": "code",
   "execution_count": null,
   "id": "1ab49bc5",
   "metadata": {},
   "outputs": [],
   "source": [
    "genetec_cogs_copy = genetec['df_inc'].loc[idx[:, \"Cost of goods sold\"], :].copy() * -1\n",
    "genetec_ppe_copy = genetec[\"df_bal\"].loc[idx[:, \"Net property/plant/equipment\"], :].drop(\"TTM\", axis=1).copy()\n",
    "genetec_avg_ppe = []\n",
    "columns = genetec_ppe_copy.columns\n",
    "for i in range(len(columns) - 1):\n",
    "    average_ppe = list((genetec_ppe_copy.loc[:, idx[columns[i] : columns[i+1]]].sum(axis=1) / 2 ).values)\n",
    "    genetec_avg_ppe.append(average_ppe)\n",
    "(((genetec_cogs_copy.drop([\"2017\", \"TTM\"], axis=1)).unstack(0).stack(0) / np.array(genetec_avg_ppe)).median(axis=1)).to_clipboard(excel=True)"
   ]
  },
  {
   "cell_type": "code",
   "execution_count": null,
   "id": "b8d9e136",
   "metadata": {},
   "outputs": [],
   "source": [
    "unisem_cogs_copy = unisem['df_inc'].loc[idx[:, \"Cost of goods sold\"], :].copy() * -1\n",
    "unisem_ppe_copy = unisem[\"df_bal\"].loc[idx[:, \"Net property/plant/equipment\"], :].drop(\"TTM\", axis=1).copy()\n",
    "unisem_avg_ppe = []\n",
    "columns = genetec_ppe_copy.columns\n",
    "for i in range(len(columns) - 1):\n",
    "    average_ppe = list((unisem_ppe_copy.loc[:, idx[columns[i] : columns[i+1]]].sum(axis=1) / 2 ).values)\n",
    "    unisem_avg_ppe.append(average_ppe)\n",
    "(((unisem_cogs_copy.drop([\"2017\", \"TTM\"], axis=1)).unstack(0).stack(0) / np.array(unisem_avg_ppe)).median(axis=1)).to_clipboard(excel=True)"
   ]
  },
  {
   "attachments": {},
   "cell_type": "markdown",
   "id": "04865005",
   "metadata": {},
   "source": [
    "#### Working Capital Turnover"
   ]
  },
  {
   "attachments": {},
   "cell_type": "markdown",
   "id": "2c033376",
   "metadata": {},
   "source": [
    "Total current assets <br/>\n",
    "Total current liabilities"
   ]
  },
  {
   "cell_type": "code",
   "execution_count": null,
   "id": "488226ec",
   "metadata": {},
   "outputs": [],
   "source": [
    "genetec_net_working_capital = genetec['df_bal'].loc[idx[:, [\"Total current assets\", \"Total current liabilities\"]], :].groupby(\"Company\", axis=0).sum().drop(\"TTM\", axis=1)\n",
    "genetec_avg_wc = []\n",
    "columns = genetec_net_working_capital.columns\n",
    "for i in range(len(columns) - 1):\n",
    "    average_wc = list((genetec_net_working_capital.loc[:, columns[i]: columns[i+1]].sum(axis=1) / 2 ).values)\n",
    "    genetec_avg_wc.append(average_wc)\n",
    "(genetec['df_inc'].loc[idx[:, 'Total revenue'], :].drop([\"2017\", \"TTM\"], axis=1).T / np.array(genetec_avg_wc)).median(axis=1)\n",
    "# genetec['df_inc'].loc[idx[:, 'Total revenue'], :].drop([\"2017\", \"TTM\"], axis=1).T\n",
    "# genetec_avg_wc\n",
    "(genetec['df_inc'].loc[idx[:, 'Total revenue'], :].drop([\"2017\", \"TTM\"], axis=1).T / np.array(genetec_avg_wc)).median(axis=1).to_clipboard(excel=True)"
   ]
  },
  {
   "cell_type": "code",
   "execution_count": null,
   "id": "532534b8",
   "metadata": {},
   "outputs": [],
   "source": [
    "unisem_net_working_capital = unisem['df_bal'].loc[idx[:, [\"Total current assets\", \"Total current liabilities\"]], :].groupby(\"Company\", axis=0).sum().drop(\"TTM\", axis=1)\n",
    "unisem_avg_wc = []\n",
    "columns = unisem_net_working_capital.columns\n",
    "for i in range(len(columns) - 1):\n",
    "    average_wc = list((unisem_net_working_capital.loc[:, columns[i]: columns[i+1]].sum(axis=1) / 2 ).values)\n",
    "    unisem_avg_wc.append(average_wc)\n",
    "((unisem['df_inc'].loc[idx[:, 'Total revenue'], :].drop([\"2017\", \"TTM\"], axis=1).T / np.array(unisem_avg_wc)).median(axis=1)).to_clipboard(excel=True)"
   ]
  },
  {
   "attachments": {},
   "cell_type": "markdown",
   "id": "64c9af33",
   "metadata": {},
   "source": [
    "#### Days Payable Outstanding"
   ]
  },
  {
   "cell_type": "code",
   "execution_count": null,
   "id": "1c8a4fc9",
   "metadata": {},
   "outputs": [],
   "source": [
    "for i in genetec['df_bal'].index.get_level_values(1):\n",
    "    print(i)"
   ]
  },
  {
   "cell_type": "code",
   "execution_count": null,
   "id": "11a667f3",
   "metadata": {},
   "outputs": [],
   "source": [
    "genetec_ap = genetec['df_bal'].loc[idx[:, \"Accounts payable\"], :].unstack()\n",
    "genetec_sales = genetec['df_inc'].loc[idx[:, \"Total revenue\"], :].values\n",
    "genetec_payable_period = ((genetec_ap / genetec_sales) * 365).median().unstack().rename(columns={\"Accounts payable\": \"Average payble period\"})\n",
    "genetec_payable_period.to_clipboard(excel=True)\n",
    "genetec_payable_period"
   ]
  },
  {
   "cell_type": "code",
   "execution_count": null,
   "id": "14f76fba",
   "metadata": {},
   "outputs": [],
   "source": [
    "unisem_ap = unisem['df_bal'].loc[idx[:, \"Accounts payable\"], :].unstack()\n",
    "unisem_sales = unisem['df_inc'].loc[idx[:, \"Total revenue\"], :].values\n",
    "unisem_payable_period = ((unisem_ap / unisem_sales) * 365).median().unstack().rename(columns={\"Accounts payable\": \"Average payble period\"})\n",
    "unisem_payable_period.to_clipboard(excel=True)\n",
    "unisem_payable_period"
   ]
  },
  {
   "attachments": {},
   "cell_type": "markdown",
   "id": "fbfe804e",
   "metadata": {},
   "source": [
    "#### Cash Conversion Cycle"
   ]
  },
  {
   "cell_type": "code",
   "execution_count": null,
   "id": "296d99b1",
   "metadata": {},
   "outputs": [],
   "source": [
    "genetec_dio_f = genetec_dio.to_frame()\n",
    "genetec_dio_f.name = \"Indicator\"\n",
    "genetec_dio_f.columns = [\"Days\"]\n",
    "unisem_dio_f = unisem_dio.to_frame()\n",
    "unisem_dio_f.name = \"Indicator\"\n",
    "unisem_dio_f.columns = [\"Days\"]\n",
    "genetec_collection_period.columns = ['Days']\n",
    "unisem_collection_period.columns = ['Days']\n",
    "genetec_payable_period.columns = ['Days']\n",
    "unisem_payable_period.columns = ['Days']"
   ]
  },
  {
   "cell_type": "code",
   "execution_count": null,
   "id": "bff0330c",
   "metadata": {},
   "outputs": [],
   "source": [
    "(genetec_collection_period + genetec_dio_f - genetec_payable_period).to_clipboard(excel=True)\n",
    "(genetec_collection_period + genetec_dio_f - genetec_payable_period)"
   ]
  },
  {
   "cell_type": "code",
   "execution_count": null,
   "id": "151c1f41",
   "metadata": {},
   "outputs": [],
   "source": [
    "unisem_payable_period"
   ]
  },
  {
   "cell_type": "code",
   "execution_count": null,
   "id": "55dc45fd",
   "metadata": {},
   "outputs": [],
   "source": [
    "unisem_dio_f"
   ]
  },
  {
   "cell_type": "code",
   "execution_count": null,
   "id": "0c5d6ab2",
   "metadata": {},
   "outputs": [],
   "source": [
    "unisem_collection_period"
   ]
  },
  {
   "cell_type": "code",
   "execution_count": null,
   "id": "34c2c43e",
   "metadata": {},
   "outputs": [],
   "source": [
    "(unisem_collection_period + unisem_dio_f - unisem_payable_period).to_clipboard(excel=True)\n",
    "(unisem_collection_period + unisem_dio_f - unisem_payable_period)"
   ]
  },
  {
   "attachments": {},
   "cell_type": "markdown",
   "id": "76e978a5",
   "metadata": {},
   "source": [
    "#### Times To Interest Earned"
   ]
  },
  {
   "cell_type": "code",
   "execution_count": null,
   "id": "11bb5f4e",
   "metadata": {},
   "outputs": [],
   "source": [
    "unisem_ebit_interest = unisem['df_inc'].loc[idx[:, [\"EBIT\", \"Interest expense, net of interest capitalized\"]], :]\n",
    "unisem_ebit_interest.groupby(\"Company\", axis=0).agg(lambda x: x[0] / (-1 * x[-1])).median().to_frame().to_clipboard(excel=True)\n"
   ]
  },
  {
   "cell_type": "code",
   "execution_count": null,
   "id": "f260ff1f",
   "metadata": {},
   "outputs": [],
   "source": [
    "genetec_ebit_interest = genetec['df_inc'].loc[idx[:, [\"EBIT\", \"Interest expense, net of interest capitalized\"]], :]\n",
    "genetec_ebit_interest.groupby(\"Company\", axis=0).agg(lambda x: x[0] / (-1 * x[-1])).median().to_frame().to_clipboard(excel=True)"
   ]
  }
 ],
 "metadata": {
  "kernelspec": {
   "display_name": "Python 3 (ipykernel)",
   "language": "python",
   "name": "python3"
  },
  "language_info": {
   "codemirror_mode": {
    "name": "ipython",
    "version": 3
   },
   "file_extension": ".py",
   "mimetype": "text/x-python",
   "name": "python",
   "nbconvert_exporter": "python",
   "pygments_lexer": "ipython3",
   "version": "3.10.2"
  }
 },
 "nbformat": 4,
 "nbformat_minor": 5
}
